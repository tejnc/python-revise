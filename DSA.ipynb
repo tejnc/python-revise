{
 "cells": [
  {
   "cell_type": "markdown",
   "metadata": {},
   "source": [
    "# Data Structures and Algorithm"
   ]
  },
  {
   "cell_type": "markdown",
   "metadata": {},
   "source": [
    "### What is an Algorithm?\n",
    "- In computer programming terms, an algorithm is a set of well-defined instructions to solve a particular problem. It takes a set of input and produces a desired output."
   ]
  },
  {
   "cell_type": "markdown",
   "metadata": {},
   "source": [
    "Algorithm: Find the factorial of a number\n",
    "1. Start\n",
    "2. Declare variables n, factorial and i.\n",
    "3. Initialize variables\n",
    "    - factorial <- 1\n",
    "    - i <- i + 1\n",
    "4. Read the value of n\n",
    "5. Repeat the steps until i = n\n",
    "    - factorial <- factorial * i\n",
    "    - i <- i + 1\n",
    "6. Display factorial\n",
    "7. Stop\n",
    "\n"
   ]
  },
  {
   "cell_type": "markdown",
   "metadata": {},
   "source": [
    "Algorithm: Find the fibonacci series till the term less than 1000\n",
    "1. Start \n",
    "2. Declare variables first_term, second_term, and temp\n",
    "3. Initialize variables first_term <- 0 and second_term <- 1 \n",
    "4. Display the first term and second term\n",
    "5. Repeat the steps until second_term <= 1000\n",
    "    - temp <- second term \n",
    "    - second_term <- second_term + first_term\n",
    "    - first_term <- temp\n",
    "    - display second_term\n",
    "6. Stop"
   ]
  },
  {
   "cell_type": "markdown",
   "metadata": {},
   "source": [
    "### Data Structure and Types\n",
    "\n",
    "### What are Data Structures?\n",
    "- Data structure is a storage that is used to store and organize data. it is a way of arranging data on a computer so that it can be accessed and updated efficiently.\n",
    "- Depending on your requirement and project, it is important to choose the right data structure for your project. For example, if you want to store data sequentially in the memory, then you can go for the Array data structure.\n",
    "\n",
    "**Note**: Data structure and data types are slightly different. Data structure is the collection of data types arranged in a specific order.\n",
    "\n",
    "### Types of Data Structure\n",
    "1. Linear data structure\n",
    "2. Non-linear data structure"
   ]
  },
  {
   "cell_type": "markdown",
   "metadata": {},
   "source": [
    "### Linear data structures\n",
    "- In linear data structures, the elements are arranged in sequence one after the other. easy to immplement, not suitable as the complexity of the program increases\n",
    "\n",
    "#### Populare linear data structures are:\n",
    "1. Array Data Structure\n",
    "- In an array, elements in memory are arranged in continuous memory. All the elements of an array are of the same type.\n",
    "\n",
    "2. Stack Data Structure\n",
    "- In stack data structure, elements are stored in the LIFO principle. That is, the last element stored  in a stack will be removed first.\n",
    "\n",
    "3. Queue Data Structure\n",
    "- In queue data structure, elements are stored in FIFO principle, where first element stored in the queue will be removed first.\n",
    "\n",
    "4. Linked List Data Structure\n",
    "- In linked list data structure, data elements are connected through a series of nodes. And each node contains the data items and address to the next node."
   ]
  },
  {
   "cell_type": "markdown",
   "metadata": {},
   "source": [
    "### Non linear data structures\n",
    "- arranged in a hierarchical manner where one element will be connected to one or more elements\n",
    "\n",
    "1. Graph Data Structure\n",
    "- In graph data structure, each node is called vertex and each vertex is connected to other vertices through edges. eg; spanning tree and minimum spanning tree, strongly connected commponents, adjacency matrix, adjacency list\n",
    "\n",
    "2. Tree Data Structure\n",
    "- Similar to a graph, a tree is also a collection of vertices and edges. However, in tree data structure, there can only be one edge between two vertices. eg; binary tree, binary search tree, avl tree, b-tree, b+ tree, red-black tree etc."
   ]
  },
  {
   "cell_type": "markdown",
   "metadata": {},
   "source": [
    "### Why learn data structures and algorithms?\n",
    "- Programming is all about data structures and algorithms. Data structures are used to hold data while algorithms are used to solve the problem using that data.\n",
    "- DSA goes through solutions to standard problems in detail and gives you an insight into how efficient it is to use each one of them. It also teaches you the science of evaluating the efficieny of an algorithm. This enables you to choose the best of various choices.\n",
    "\n",
    "### Use of data structures and algorithms to make your code scalable\n",
    "1. Time is precious\n",
    "2. More on Scalablily; scalability is a scale plus ability, which means the quality of an algorithm/system to handle the problem of larger size.\n",
    "3. Memory is expensive\n",
    "\n",
    "### #xamples of an Algorithm's Efficiency\n",
    "1. Age Group Problem\n",
    "Problems like finding the people of a certain age group can easily be solved with a little modified version of the **binary search algorithm** (assuming that the data is sorted.)\n",
    "\n",
    "The naive algorithm which goes through all the persons one by one, and checks if it falls in the given age group is linearly scalable. Whereas, binary search claims itself to be a logarithmically scalable algorithm. This means that if the size of the problem is squared, the time taken to solve it is only doubled.\n",
    "\n",
    "- Suppose, it takes 1 second to find all the people at a certain age for a group of 1000. Then for a group of 1 million people,\n",
    "    - the binary search algorithm will take only 2 seconds to solve the problem\n",
    "    - the naive algorithm might take 1 million seconds, which is around 12 days\n",
    "\n",
    "The same binary search algorithm is used to find the square root of a number.\n",
    "\n",
    "\n",
    "2. Rubik's Cube Problem\n",
    "Imagine you are writing a program to find the solution of a Rubik's cube. \n",
    "\n",
    "This cute looking puzzle has annoyingly 43,252,003,274,489,856,000 positions, and these are just positions! Imagine the number of paths one can take to reach the wrong positions.\n",
    "\n",
    "Fortunately, the way to solve this problem can be represented by the graph data structure. There is a graph algorithm known as Dijkstra's algorithm which allows you to solve this problem in linear time. Yes, you heard it right. It means that it allows you to reach the solved position in a minimum number of states.\n",
    "\n",
    "3. DNA Problem\n",
    "DNA is a molecule that carries genetic information. They are made up of smaller units which are represented by Roman characters A, C, T and G.\n",
    "\n",
    "Imagine yourself working in the field of bioinformatics. You are assigned the work of finding out the occurrence of a particular pattern in a DNA strand. \n",
    "\n",
    "It is a famous problem in computer science academia. And, the simplest algorithm takes the time proportional to \n",
    "    **(number of character in DNA strand) * (number of characters in pattern)**\n",
    "\n",
    "A typical DNA strand has millions of such units. \n",
    "\n",
    "**Conclusion**\n",
    "Generally, software development involves learning new technologies on a daily basis. You get to learn most of these technologies while using them in one of your projects. However, it is not the case with the algorithms.\n",
    "\n",
    "If you don't know algorithms well, you won't be able to identify if you can optimize the code you are writing right now. You are expected to know them in advance and apply them wherever possible and critical.\n",
    "\n",
    "We specifically talked about the scalability of algorithms. A software system consists of many such algorithms. Optimizing any one of them leads to a better system.\n",
    "\n",
    "However, it's important to note that this is not the only way to make a system scalable. For example, a technique known as distributed computing allows independent3 parts of a program to run to multiple machines together making it even more scalable."
   ]
  },
  {
   "cell_type": "markdown",
   "metadata": {},
   "source": [
    "### Asymptotic Notations   *https://www.programiz.com/dsa/asymptotic-notations*\n",
    "- are mathematical notations used to describe the running time of an algorithm when the input tends towards a particular value or a limiting value.\n",
    "1. Big-O notation\n",
    "- represents the upper bound of the running time of an algorithm. Thus, it gives the worst-case complexity of an algorithm.\n",
    "\n",
    "2. Omega Notation\n",
    "- represents the lower bound of the running time of an algorithm. Thus, it provides the best case complexity of an algorithm.\n",
    "\n",
    "3. Theta Notation\n",
    "- encloses the function from above and below. Since it represents the upper and the lower bound of the running time of an algorithm, it is used for analyzing the average-case complexity of an algorithm."
   ]
  },
  {
   "cell_type": "markdown",
   "metadata": {},
   "source": [
    "TODO: Master theorem and Divide and Conquer Algorithm\n"
   ]
  },
  {
   "cell_type": "markdown",
   "metadata": {},
   "source": [
    "### Stack Data Structure\n",
    "Basic operation\n",
    "1. Push \n",
    "2. Pop\n",
    "3. IsEmpty\n",
    "4. IsFull\n",
    "5. Peek\n",
    "\n",
    "- Uses LIFO principle\n",
    "\n",
    "- Stack Time Complexity\n",
    "    - For the array-based implementation of a stack, the push and pop operations take constant time, i.e. O(1).\n",
    "\n",
    "**Applications of Stack Data Structure**\n",
    "- To reverse a word: Put all the letters in a stack and pop them out. Because of the LIFO order of stack, you will get the letters in reverse order.\n",
    "\n",
    "- In compilers: Compilers use the stack to calculate the value of expression like \n",
    "    - **2 + 4 / 5 * (7-9)** by converting the expression to prefix or postfix form.\n",
    "\n",
    "- In browsers: The back button in a browser saves all the URLs you have visited previously in a stack. Each time you visit a new page, it is added on top of the stack. When you press the back button, the current URL is removed from the stack, and the previous URL is accessed.\n",
    "\n"
   ]
  },
  {
   "cell_type": "code",
   "execution_count": null,
   "metadata": {},
   "outputs": [],
   "source": [
    "# Stack Data Structure\n",
    "\n",
    "# Stack implementation in python\n",
    "\n",
    "# creating a stack\n",
    "def create_stack():\n",
    "    stack = []\n",
    "    return stack\n",
    "\n",
    "\n",
    "# creating an empty stack \n",
    "def check_empty(stack):\n",
    "    return len(stack) == 0\n",
    "\n",
    "\n",
    "# adding items into the stack\n",
    "def push(stack, item):\n",
    "    stack.append(item)\n",
    "    print(\"pushed item \", item )\n",
    "\n",
    "\n",
    "# removing an element from the stack\n",
    "def pop(stack):\n",
    "    if (check_empty(stack)):\n",
    "        return \"stack is empty\"\n",
    "\n",
    "    return stack.pop()\n",
    "\n",
    "\n",
    "stack = create_stack()\n",
    "push(stack, str(1))\n",
    "push(stack, str(2))\n",
    "push(stack, str(3))\n",
    "push(stack, str(4))\n",
    "\n",
    "print(\"popped item: \", pop(stack))\n",
    "print(\"stack after popping an element: \", str(stack))\n"
   ]
  },
  {
   "cell_type": "markdown",
   "metadata": {},
   "source": [
    "### Queue Data Structure\n",
    "- follows the FIFO rule - the item that goes in first is the item that comes out first.\n",
    "\n",
    "Basic operation:\n",
    "- Enqueue: add an element to the end of the queue\n",
    "- Dequeue: remove an element from the fron of the queue\n",
    "- IsEmpty: check if the queue is empty\n",
    "- IsFulll: check if the queue is full\n",
    "- Peek: get the value of the front of the queue without removing it\n",
    "\n",
    "**Complexity Analysis**\n",
    "- The complexity of enqueue and dequeue operations in a queue using an array in O(1). If you use pop(N) in python code, then the complexity might be O(n) depending on the position of the item to be popped.\n",
    "\n",
    "**Application of Queue**\n",
    "- CPU scheduling, Disk Scheduling\n",
    "- When data is transferred asynchronously between two processes. The queue is used for synchronization. For example: IO buffers, pipes, file IO etc.\n",
    "- Handling of interrupts in real-time systems\n",
    "- Call Center phone systems use Queues to hold people calling them in order"
   ]
  },
  {
   "cell_type": "code",
   "execution_count": null,
   "metadata": {},
   "outputs": [],
   "source": [
    "# Queue implementation in python\n",
    "\n",
    "class Queue:\n",
    "    def __init__(self):\n",
    "        self.queue = []\n",
    "\n",
    "    \n",
    "    # add an element\n",
    "    def enqueue(self, item):\n",
    "        self.queue.append(item)\n",
    "    \n",
    "\n",
    "    # remove an element\n",
    "    def dequeue(self):\n",
    "        if len(self.queue)<1:\n",
    "            return None\n",
    "        return self.queue.pop(0)\n",
    "\n",
    "\n",
    "    # display the queue\n",
    "    def display(self):\n",
    "        print(self.queue)\n",
    "    \n",
    "\n",
    "    def size(self):\n",
    "        return len(self.queue)\n",
    "\n",
    "\n",
    "q = Queue()\n",
    "q.enqueue(1)\n",
    "q.enqueue(2)\n",
    "q.enqueue(3)\n",
    "q.enqueue(4)\n",
    "q.enqueue(5)\n",
    "\n",
    "q.display()\n",
    "\n",
    "q.dequeue()\n",
    "\n",
    "print(\"After removing an element\")\n",
    "q.display()"
   ]
  },
  {
   "cell_type": "markdown",
   "metadata": {},
   "source": [
    "TODO: types of queue"
   ]
  },
  {
   "cell_type": "markdown",
   "metadata": {},
   "source": [
    "### Linked list Data Structure\n",
    "- It is a linear data structure that includes a series of connected nodes. Here, each node stores the data and the address of the next node.\n",
    "\n",
    "\n",
    "**Linked List Applications**\n",
    "- Dynamic memory allocation\n",
    "- Implemented in stack and queue\n",
    "- In undo functionality of softwares\n",
    "- Hash tables, Graphs"
   ]
  }
 ],
 "metadata": {
  "interpreter": {
   "hash": "d28eaeacdfd97747cc4f5a3ddad0252f6e817e78fb6ff99b65a00372957fb0dc"
  },
  "kernelspec": {
   "display_name": "Python 3.10.4 ('jupyter-venv': venv)",
   "language": "python",
   "name": "python3"
  },
  "language_info": {
   "name": "python",
   "version": "3.10.4"
  },
  "orig_nbformat": 4
 },
 "nbformat": 4,
 "nbformat_minor": 2
}
