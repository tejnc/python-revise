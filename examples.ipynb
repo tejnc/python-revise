{
 "cells": [
  {
   "cell_type": "code",
   "execution_count": null,
   "metadata": {},
   "outputs": [],
   "source": []
  }
 ],
 "metadata": {
  "interpreter": {
   "hash": "d28eaeacdfd97747cc4f5a3ddad0252f6e817e78fb6ff99b65a00372957fb0dc"
  },
  "kernelspec": {
   "display_name": "Python 3.10.4 ('jupyter-venv': venv)",
   "language": "python",
   "name": "python3"
  },
  "language_info": {
   "name": "python",
   "version": "3.10.4"
  },
  "orig_nbformat": 4
 },
 "nbformat": 4,
 "nbformat_minor": 2
}
