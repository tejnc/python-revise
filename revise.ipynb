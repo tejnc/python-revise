{
 "cells": [
  {
   "cell_type": "code",
   "execution_count": null,
   "metadata": {},
   "outputs": [],
   "source": [
    "# creation of function \n",
    "\n",
    "from unittest import result\n",
    "\n",
    "\n",
    "def hello(i):\n",
    "    result = 1 + i \n",
    "    print(f\"1+i = {result}\")\n",
    "    \n",
    "for i in range(10):\n",
    "    hello(i)"
   ]
  },
  {
   "cell_type": "markdown",
   "metadata": {},
   "source": [
    "### Iterrators\n",
    "\n",
    "Iterators are objects that can be iterated upon. We can build our own iterator using __iter__ and __next__ methods.\n",
    "An object is called iterable if we can get an iterator from it. Most built-in containers in python like: list, tuple, string etc. are iterables.\n",
    "\n",
    "The iter() function (which in turn calls the __iter__() method) returns an iterator from them."
   ]
  },
  {
   "cell_type": "code",
   "execution_count": null,
   "metadata": {},
   "outputs": [],
   "source": [
    "# Iteratating through an iterator\n",
    "\n",
    "# define a list\n",
    "my_list = [ 4, 7, 0 ,3]\n",
    "\n",
    "# get an iterator using iter()\n",
    "my_iter = iter(my_list)\n",
    "\n",
    "# iterator through it using next()\n",
    "\n",
    "print(next(my_iter)) # output: 4\n",
    "\n",
    "print(next(my_iter)) # output: 7\n",
    "\n",
    "# next(obj) is same as obj.__next__()\n",
    "\n",
    "print(my_iter.__next__()) # output: 0 \n",
    "\n",
    "print(my_iter.__next__()) # output: 3\n",
    "\n",
    "next(my_iter) # this will cause error, since no items left\n",
    "\n",
    "# Better way of automatically iterating is using the for loop. "
   ]
  },
  {
   "cell_type": "markdown",
   "metadata": {},
   "source": [
    "### Building Custom Iterators\n",
    "- Building an iterator from scratch is easy in Python. We just have to implement the __iter__() and the __next__() methods.\n",
    "- The __iter__() method returns the iterator object itself. If required, some initialization can be performed.\n",
    "- The __next__() method must return the next item in the sequence. On reaching the end, and in subsequent calls, it must raise StopIteration."
   ]
  },
  {
   "cell_type": "markdown",
   "metadata": {},
   "source": [
    "#### Note\n",
    "- Self is the first argument to be passed in Constructor and Instance Method. Self must be provided as a First parameter to the instance method and constructor. If you don't provide it, it will cause an error."
   ]
  },
  {
   "cell_type": "code",
   "execution_count": null,
   "metadata": {},
   "outputs": [],
   "source": [
    "class PowTwo:\n",
    "    \"\"\" Class to implement an iterator \n",
    "    of powers of two\"\"\"\n",
    "\n",
    "    def __init__(self, max=0):\n",
    "        self.max = max\n",
    "\n",
    "    \n",
    "    def __iter__(self):\n",
    "        self.n = 0\n",
    "        return self\n",
    "    \n",
    "    \n",
    "    def __next__(self):\n",
    "        if self.n <= self.max:\n",
    "            result = 2 ** self.n\n",
    "            self.n += 1\n",
    "            return result\n",
    "        else:\n",
    "            raise StopIteration\n",
    "\n",
    "\n",
    "# create an object\n",
    "numbers = PowTwo(3)\n",
    "\n",
    "\n",
    "# create an iterable from the object\n",
    "i = iter(numbers)\n",
    "\n",
    "\n",
    "# using next to get the next iterator element\n",
    "print(next(i))\n",
    "print(next(i))\n",
    "print(next(i))\n",
    "print(next(i))\n",
    "print(next(i))"
   ]
  },
  {
   "cell_type": "code",
   "execution_count": null,
   "metadata": {},
   "outputs": [],
   "source": [
    "class Multiple:\n",
    "    \"\"\"Creating a multiple table of given number for ten times.\"\"\"\n",
    "\n",
    "\n",
    "    def __init__(self,mul):\n",
    "        self.mul = mul\n",
    "\n",
    "\n",
    "    def __iter__(self):\n",
    "        self.n = 1\n",
    "        self.max = 10\n",
    "        return self\n",
    "\n",
    "    \n",
    "    def __next__(self):\n",
    "        if self.n <= self.max:\n",
    "            result = self.mul * self.n\n",
    "            self.n += 1\n",
    "            return result\n",
    "        else: \n",
    "            raise StopIteration\n",
    "\n",
    "\n",
    "products = Multiple(int(input(\"Enter the number\")))\n",
    "\n",
    "\n",
    "i = iter(products)\n",
    "\n",
    "\n",
    "print(next(i))\n",
    "print(next(i))\n",
    "print(next(i))\n",
    "print(next(i))\n",
    "print(next(i))\n",
    "print(next(i))\n",
    "print(next(i))\n",
    "print(next(i))\n",
    "print(next(i))\n",
    "print(next(i))\n",
    "print(next(i))"
   ]
  },
  {
   "cell_type": "markdown",
   "metadata": {},
   "source": [
    "### Generators\n",
    "Generators in python are a simple way of creating iterators. It contains one or more yield statements."
   ]
  },
  {
   "cell_type": "code",
   "execution_count": null,
   "metadata": {},
   "outputs": [],
   "source": [
    "# A simple generator function\n",
    "def my_gen():\n",
    "    n = 1\n",
    "    print(\"This is printed first\")\n",
    "    # Generator function contains yield statements\n",
    "    yield n \n",
    "\n",
    "    \n",
    "    n += 1\n",
    "    print(\"This is printed second\")\n",
    "    yield n\n",
    "\n",
    "\n",
    "    n += 1\n",
    "    print(\"This is printed at last\")\n",
    "    yield n \n",
    "\n",
    "\n",
    "a = my_gen()\n",
    "next(a)\n",
    "next(a)\n",
    "next(a)\n",
    "next(a)"
   ]
  },
  {
   "cell_type": "code",
   "execution_count": 2,
   "metadata": {},
   "outputs": [
    {
     "name": "stdout",
     "output_type": "stream",
     "text": [
      "o\n",
      "l\n",
      "l\n",
      "e\n",
      "h\n"
     ]
    }
   ],
   "source": [
    "def rev_str(my_str):\n",
    "    length = len(my_str)\n",
    "    for i in range(length -1, -1,-1):\n",
    "        yield my_str[i]\n",
    "\n",
    "\n",
    "# for loop to reverse the string\n",
    "for char in rev_str(\"hello\"):\n",
    "    print(char)"
   ]
  },
  {
   "cell_type": "markdown",
   "metadata": {},
   "source": [
    "##### Generator Expression\n",
    "* Simple generators can be easily created on the fly using generator expressions. Similar to the lamba functions which create anonymous functions, generator  expressions create anonymous generator functions. \n",
    "* The syntax for generator expression is similar to that of a list comprehension in Python. But the square brackets are replaced with round parantheses.\n",
    "* The major difference between a list comprehension and a generator expression is that a list comprehension produces the entire list while the generator expression produces one item at a time.\n",
    "* They have lazy execution (producing items only when asked for). For this reason, a generator expression is much more memory efficient than an equivalent list comprehension."
   ]
  },
  {
   "cell_type": "code",
   "execution_count": null,
   "metadata": {},
   "outputs": [],
   "source": [
    "my_list = [x**2 for x in range(2,10)]\n",
    "generator_list = (x**2 for x in range(2,10))\n",
    "\n",
    "print(my_list)\n",
    "print(next(generator_list))\n",
    "print(next(generator_list))\n",
    "print(next(generator_list))\n",
    "print(next(generator_list))\n",
    "print(next(generator_list))\n",
    "print(next(generator_list))\n",
    "print(next(generator_list))\n",
    "print(next(generator_list))\n",
    "print(next(generator_list))"
   ]
  },
  {
   "cell_type": "markdown",
   "metadata": {},
   "source": [
    "### Python Closure\n",
    "* A closure is a function object that remembers values in enclosing scopes even if they are not present in memory. \n",
    "    * It is a record that stores a function together with an environment: a mapping associating each free variable of the function ( variables that are used locally but defined in an enclosing scope) with the value or reference to which the name was bound when the closure was created.\n",
    "    * A closure-unlike a plain function-allows the function to access those captured variables through the closure's copies of their values or references, even when the function is invoked outside their scope."
   ]
  },
  {
   "cell_type": "code",
   "execution_count": 9,
   "metadata": {},
   "outputs": [
    {
     "name": "stdout",
     "output_type": "stream",
     "text": [
      "hello\n"
     ]
    }
   ],
   "source": [
    "def print_msg(msg):\n",
    "    # This is the outer enclosing function\n",
    "\n",
    "\n",
    "    def printer():\n",
    "        # This is the nested function\n",
    "        print(msg)\n",
    "\n",
    "    return printer # returns the nested function\n",
    "\n",
    "\n",
    "# Now, let's try calling this function.\n",
    "another = print_msg(\"hello\")\n",
    "another()\n"
   ]
  },
  {
   "cell_type": "markdown",
   "metadata": {},
   "source": [
    "- In above code; the print_msg() function was called with the string \"hello\" and the returned function was bound to the name **another**. On calling **another()**, the message was still remembered although we had already finished executing the **print_msg()** function. \n",
    "- This technique by which some data (\"hello\" in this case) gets attached to the code is called **Closusre in Python**. \n",
    "- This value in the enclosing scope is remembered even when the variable goes out of scope or the function itself is removed from the current namespace. "
   ]
  },
  {
   "cell_type": "markdown",
   "metadata": {},
   "source": [
    "### Python Decorators\n",
    "* Python has an interesting feature called **decorators** to add functionality to an existing code.\n",
    "* This is also called metaprogramming because a part of the program tries to modify another part of the program at compile time.\n"
   ]
  },
  {
   "cell_type": "code",
   "execution_count": 14,
   "metadata": {},
   "outputs": [
    {
     "name": "stdout",
     "output_type": "stream",
     "text": [
      "I am ordinary\n",
      "I got decorated\n",
      "I am ordinary\n"
     ]
    }
   ],
   "source": [
    "def make_pretty(func):\n",
    "    def inner():\n",
    "        print(\"I got decorated\")\n",
    "        func()\n",
    "    return inner \n",
    "\n",
    "\n",
    "def ordinary():\n",
    "    print(\"I am ordinary\")\n",
    "\n",
    "ordinary()\n",
    "# let's decorate this ordinary function\n",
    "pretty = make_pretty(ordinary)\n",
    "pretty()"
   ]
  },
  {
   "cell_type": "markdown",
   "metadata": {},
   "source": [
    "In the example shown above, make_pretty() is a decorator.\n",
    "The function **ordinary()** got decorated and the returned function was given the name **pretty**. \n",
    "We can see that the decorator function added some new functionality to the original function. This is similar to packing a gift. The decorator acts as a wrapper. The nature of the object that got decorated (actual gift inside) does not alter. But now, it looks pretty (since it got decorated).\n",
    "\n",
    "Generally, we decorate a function and reassign it as,\n",
    "```python\n",
    "    ordinary = make_pretty(ordinary)\n",
    "```\n",
    "\n",
    "We can use **@** symbol along with the name of the decorator function and place it above the definition of the function to be decorated. \n",
    "```python\n",
    "    @make_pretty\n",
    "    def ordinary()\n",
    "        print(\"I am ordinary)\n",
    "```\n",
    "\n",
    "    is equivalent to \n",
    "\n",
    "```python\n",
    "    def ordinary():\n",
    "        print(\"I am ordinary\")\n",
    "    ordinary = make_pretty(ordinary)\n",
    "```\n"
   ]
  },
  {
   "cell_type": "code",
   "execution_count": 19,
   "metadata": {},
   "outputs": [
    {
     "name": "stdout",
     "output_type": "stream",
     "text": [
      "I am going to divide 40 and 2\n",
      "20.0\n"
     ]
    }
   ],
   "source": [
    "def smart_divide(func):\n",
    "    def inner(a,b):\n",
    "        if b == 0:\n",
    "            print(\"Whoops! cannot divide\")\n",
    "            return\n",
    "        \n",
    "        return func(a,b)\n",
    "    return inner \n",
    "\n",
    "\n",
    "@smart_divide\n",
    "def divide(a,b):\n",
    "    print(\"I am going to divide\", a, \"and\", b)\n",
    "    print(a/b)\n",
    "\n",
    "divide(40,2)"
   ]
  },
  {
   "cell_type": "markdown",
   "metadata": {},
   "source": [
    "### Python *args and **kwargs\n",
    "In python, we can pass a variable number of arguments to a function using special symbols. There are two special symbols:\n",
    "    1. *args(Non Keyword Arguments)\n",
    "    2. **kwargs(Keyword Arguments)\n",
    "\n",
    "We use *args and **kwargs as an argument when we are unsure about the number of arguments to pass in the functions."
   ]
  },
  {
   "cell_type": "code",
   "execution_count": null,
   "metadata": {},
   "outputs": [],
   "source": [
    "def adder(*num):\n",
    "    sum = 0\n",
    "\n",
    "    for n in num:\n",
    "        sum = sum + n\n",
    "\n",
    "    print(\"Sum:\",sum)\n",
    "\n",
    "adder(3,5)\n",
    "adder(2,3,5)\n",
    "adder(1,2,3,4,6)\n"
   ]
  },
  {
   "cell_type": "code",
   "execution_count": null,
   "metadata": {},
   "outputs": [],
   "source": [
    "def intro(**data):\n",
    "    print(\"\\nData type of argument:\", type(data))\n",
    "\n",
    "    for key, value in data.items():\n",
    "        print(\"{} is {}\".format(key,value))\n",
    "\n",
    "intro(Firstname=\"Sita\", LastName=\"Sharma\",Age=22, Phone=987687234)\n",
    "intro(Firstname=\"Ram\", LastName=\"Sharma\",Age=22, Phone=987687294, Country=\"Nepal\")\n",
    "\n"
   ]
  },
  {
   "cell_type": "markdown",
   "metadata": {},
   "source": [
    "### Python Custom Exceptions\n",
    "In Python, users can define custom exceptions by creating a new class. This exception class has to be derived, either directly or indirectly, from the build-in **Exception** class. Most of the built-in exceptions are also derived from this class."
   ]
  },
  {
   "cell_type": "code",
   "execution_count": null,
   "metadata": {},
   "outputs": [],
   "source": [
    "#define Python user-defined exceptions\n",
    "class Error(Exception):\n",
    "    \"\"\"Base class for other exceptions\"\"\"\n",
    "    pass\n",
    "\n",
    "\n",
    "class ValueTooSmallError(Error):\n",
    "    \"\"\"\"Raised when the input value is too small\"\"\"\n",
    "    pass\n",
    "\n",
    "\n",
    "class ValueTooLargeError(Error):\n",
    "    \"\"\"\"Raised when the input value is too large\"\"\"\n",
    "    pass\n",
    "\n",
    "\n",
    "# you need to guess this number\n",
    "number = 10\n",
    "\n",
    "# user guesses a number until he/she gets it right\n",
    "while True:\n",
    "    try:\n",
    "        i_num = int(input(\"Enter a number: \"))\n",
    "        if i_num < number:\n",
    "            raise ValueTooSmallError\n",
    "        elif i_num > number:\n",
    "            raise ValueTooLargeError\n",
    "        break\n",
    "    except ValueTooSmallError:\n",
    "        print(\"This value is too small, try again!\")\n",
    "        print()\n",
    "    except ValueTooLargeError:\n",
    "        print(\"This value is too large, try again!\")\n",
    "        print()\n",
    "\n",
    "print(\"Congratulations! You guessed it correctly.\")\n"
   ]
  },
  {
   "cell_type": "code",
   "execution_count": null,
   "metadata": {},
   "outputs": [],
   "source": [
    "# Further customizing exception classes\n",
    "\n",
    "class SalaryNotInRangeError(Exception):\n",
    "    \"\"\"\n",
    "        Exception raised for errors in the input salary.\n",
    "\n",
    "        Attributees:\n",
    "            salary -- input salary which caused the error\n",
    "            message -- explanation of the error\n",
    "    \"\"\"\n",
    "\n",
    "\n",
    "    def __init__(self, salary, message=\"Salary is not in (5000,15000) range\"):\n",
    "        self.salary = salary\n",
    "        self.message = message\n",
    "        super().__init__(self.message)\n",
    "\n",
    "    \n",
    "    def __str__(self):\n",
    "        return f'{self.salary} - > {self.message}'\n",
    "\n",
    "\n",
    "salary = int(input(\"Enter salary amount: \"))\n",
    "if not 5000 < salary < 150000:\n",
    "    raise SalaryNotInRangeError(salary,message=\"Salary is not in range\")"
   ]
  },
  {
   "cell_type": "code",
   "execution_count": 29,
   "metadata": {},
   "outputs": [],
   "source": [
    "# Working with files \n",
    "# f = open(\"/home/tej/Documents/dev/jupyter-notebooks/testing.txt\",mode=\"r+w\", encoding=\"utf-8\")\n",
    "# f.read()\n",
    "# f.close()\n",
    "\n",
    "\n",
    "with open(\"/home/tej/Documents/dev/jupyter-notebooks/testing.txt\", mode=\"w\", encoding=\"utf-8\") as f:\n",
    "    # performing file operations\n",
    "    # f.read()\n",
    "\n",
    "    f.write(\"my first file\")\n",
    "    # f.read()\n",
    "\n"
   ]
  },
  {
   "cell_type": "code",
   "execution_count": null,
   "metadata": {},
   "outputs": [],
   "source": [
    "class Test:\n",
    "\n",
    "    def __init__(self):\n",
    "        print(\"bird is ready.\")\n",
    "\n",
    "    def fly(self):\n",
    "        print(\"bird is flying.\")\n",
    "\n",
    "    \n",
    "    def swim(self):\n",
    "        print(\"bird is swimming.\")\n",
    "\n",
    "\n",
    "duck = Test()\n",
    "duck.fly()\n",
    "duck.swim()\n"
   ]
  }
 ],
 "metadata": {
  "interpreter": {
   "hash": "d28eaeacdfd97747cc4f5a3ddad0252f6e817e78fb6ff99b65a00372957fb0dc"
  },
  "kernelspec": {
   "display_name": "Python 3.10.4 ('jupyter-venv': venv)",
   "language": "python",
   "name": "python3"
  },
  "language_info": {
   "codemirror_mode": {
    "name": "ipython",
    "version": 3
   },
   "file_extension": ".py",
   "mimetype": "text/x-python",
   "name": "python",
   "nbconvert_exporter": "python",
   "pygments_lexer": "ipython3",
   "version": "3.10.4"
  },
  "orig_nbformat": 4
 },
 "nbformat": 4,
 "nbformat_minor": 2
}
